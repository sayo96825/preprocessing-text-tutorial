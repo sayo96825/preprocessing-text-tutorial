{
 "cells": [
  {
   "cell_type": "markdown",
   "metadata": {},
   "source": [
    "Preprocessing Text"
   ]
  },
  {
   "cell_type": "markdown",
   "metadata": {},
   "source": [
    "\n",
    "### Check the directory"
   ]
  },
  {
   "cell_type": "code",
   "execution_count": 2,
   "metadata": {},
   "outputs": [
    {
     "name": "stdout",
     "output_type": "stream",
     "text": [
      "['Preprocess.ipynb', 't11.txt']\n",
      "The file exists\n"
     ]
    }
   ],
   "source": [
    "print(os.listdir())\n",
    "\n",
    "if os.path.exists('t11.txt'):\n",
    "    print('The file exists')\n",
    "else:\n",
    "    print(\"The file does not exits\")"
   ]
  },
  {
   "cell_type": "markdown",
   "metadata": {},
   "source": [
    "### Load file"
   ]
  },
  {
   "cell_type": "code",
   "execution_count": 4,
   "metadata": {},
   "outputs": [
    {
     "name": "stdout",
     "output_type": "stream",
     "text": [
      "t11.txt\n"
     ]
    },
    {
     "data": {
      "text/plain": [
       "'On Halloween night in 2008, there was a mass murder. The police were called and two homicide detectives went to investigate the horrible crime. Trying not to tread on the bodies, the police took pictures of each one. One policemen saw something on the opposite wall but he couldn\\'t read it. He walks over to it and sees what looked like the numbers \"7734\", written in blood. When taking pictures of this he turned his digital camera upside-down and showed it to his partner. When he pointed with the hand that the camera was in, he accidentally took a picture of the upside-down numbers. The policeman was about to delete the picture when he realized something. The numbers were now a word. The word was \"hELL.\"\\n\\n'"
      ]
     },
     "execution_count": 4,
     "metadata": {},
     "output_type": "execute_result"
    }
   ],
   "source": [
    "def load_data(file):\n",
    "    with open(file, encoding = 'utf8') as f:\n",
    "        print(file)\n",
    "        text = f.read()\n",
    "    return text\n",
    "load_data('t11.txt')"
   ]
  },
  {
   "cell_type": "markdown",
   "metadata": {},
   "source": [
    "### Lower case"
   ]
  },
  {
   "cell_type": "code",
   "execution_count": 3,
   "metadata": {},
   "outputs": [
    {
     "name": "stdout",
     "output_type": "stream",
     "text": [
      "t11.txt\n"
     ]
    },
    {
     "data": {
      "text/plain": [
       "'on halloween night in 2008, there was a mass murder. the police were called and two homicide detectives went to investigate the horrible crime. trying not to tread on the bodies, the police took pictures of each one. one policemen saw something on the opposite wall but he couldn\\'t read it. he walks over to it and sees what looked like the numbers \"7734\", written in blood. when taking pictures of this he turned his digital camera upside-down and showed it to his partner. when he pointed with the hand that the camera was in, he accidentally took a picture of the upside-down numbers. the policeman was about to delete the picture when he realized something. the numbers were now a word. the word was \"hell.\"\\n\\n'"
      ]
     },
     "execution_count": 3,
     "metadata": {},
     "output_type": "execute_result"
    }
   ],
   "source": [
    "text = load_data('t11.txt')\n",
    "lowercase= text.lower()\n",
    "lowercase"
   ]
  },
  {
   "cell_type": "code",
   "execution_count": 4,
   "metadata": {},
   "outputs": [
    {
     "name": "stdout",
     "output_type": "stream",
     "text": [
      "t11.txt\n"
     ]
    },
    {
     "data": {
      "text/plain": [
       "['on',\n",
       " 'halloween',\n",
       " 'night',\n",
       " 'in',\n",
       " '2008,',\n",
       " 'there',\n",
       " 'was',\n",
       " 'a',\n",
       " 'mass',\n",
       " 'murder.',\n",
       " 'the',\n",
       " 'police',\n",
       " 'were',\n",
       " 'called',\n",
       " 'and',\n",
       " 'two',\n",
       " 'homicide',\n",
       " 'detectives',\n",
       " 'went',\n",
       " 'to',\n",
       " 'investigate',\n",
       " 'the',\n",
       " 'horrible',\n",
       " 'crime.',\n",
       " 'trying',\n",
       " 'not',\n",
       " 'to',\n",
       " 'tread',\n",
       " 'on',\n",
       " 'the',\n",
       " 'bodies,',\n",
       " 'the',\n",
       " 'police',\n",
       " 'took',\n",
       " 'pictures',\n",
       " 'of',\n",
       " 'each',\n",
       " 'one.',\n",
       " 'one',\n",
       " 'policemen',\n",
       " 'saw',\n",
       " 'something',\n",
       " 'on',\n",
       " 'the',\n",
       " 'opposite',\n",
       " 'wall',\n",
       " 'but',\n",
       " 'he',\n",
       " \"couldn't\",\n",
       " 'read',\n",
       " 'it.',\n",
       " 'he',\n",
       " 'walks',\n",
       " 'over',\n",
       " 'to',\n",
       " 'it',\n",
       " 'and',\n",
       " 'sees',\n",
       " 'what',\n",
       " 'looked',\n",
       " 'like',\n",
       " 'the',\n",
       " 'numbers',\n",
       " '\"7734\",',\n",
       " 'written',\n",
       " 'in',\n",
       " 'blood.',\n",
       " 'when',\n",
       " 'taking',\n",
       " 'pictures',\n",
       " 'of',\n",
       " 'this',\n",
       " 'he',\n",
       " 'turned',\n",
       " 'his',\n",
       " 'digital',\n",
       " 'camera',\n",
       " 'upside-down',\n",
       " 'and',\n",
       " 'showed',\n",
       " 'it',\n",
       " 'to',\n",
       " 'his',\n",
       " 'partner.',\n",
       " 'when',\n",
       " 'he',\n",
       " 'pointed',\n",
       " 'with',\n",
       " 'the',\n",
       " 'hand',\n",
       " 'that',\n",
       " 'the',\n",
       " 'camera',\n",
       " 'was',\n",
       " 'in,',\n",
       " 'he',\n",
       " 'accidentally',\n",
       " 'took',\n",
       " 'a',\n",
       " 'picture',\n",
       " 'of',\n",
       " 'the',\n",
       " 'upside-down',\n",
       " 'numbers.',\n",
       " 'the',\n",
       " 'policeman',\n",
       " 'was',\n",
       " 'about',\n",
       " 'to',\n",
       " 'delete',\n",
       " 'the',\n",
       " 'picture',\n",
       " 'when',\n",
       " 'he',\n",
       " 'realized',\n",
       " 'something.',\n",
       " 'the',\n",
       " 'numbers',\n",
       " 'were',\n",
       " 'now',\n",
       " 'a',\n",
       " 'word.',\n",
       " 'the',\n",
       " 'word',\n",
       " 'was',\n",
       " '\"hell.\"']"
      ]
     },
     "execution_count": 4,
     "metadata": {},
     "output_type": "execute_result"
    }
   ],
   "source": [
    "texts = load_data('t11.txt')\n",
    "texts = texts.split()\n",
    "#print(type(texts))\n",
    "lowercase2 = [word.lower() for word in texts]\n",
    "#print(texts)\n",
    "#texts.split(' ')\n",
    "#lowercase = [word.lower() for word in texts]\n",
    "lowercase2"
   ]
  },
  {
   "cell_type": "markdown",
   "metadata": {},
   "source": [
    "### Remove non- words"
   ]
  },
  {
   "cell_type": "code",
   "execution_count": 5,
   "metadata": {},
   "outputs": [
    {
     "data": {
      "text/plain": [
       "'on halloween night in  there was a mass murder the police were called and two homicide detectives went to investigate the horrible crime trying not to tread on the bodies the police took pictures of each one one policemen saw something on the opposite wall but he couldnt read it he walks over to it and sees what looked like the numbers  written in blood when taking pictures of this he turned his digital camera upsidedown and showed it to his partner when he pointed with the hand that the camera was in he accidentally took a picture of the upsidedown numbers the policeman was about to delete the picture when he realized something the numbers were now a word the word was hell\\n\\n'"
      ]
     },
     "execution_count": 5,
     "metadata": {},
     "output_type": "execute_result"
    }
   ],
   "source": [
    "import re\n",
    "\n",
    "#lowercase_string = ''.join(lowercase)\n",
    "remove_non_words = re.sub( r'[^a-z\\n ]','', lowercase)\n",
    "remove_non_words"
   ]
  },
  {
   "cell_type": "markdown",
   "metadata": {},
   "source": [
    "### Split / Tokenize"
   ]
  },
  {
   "cell_type": "markdown",
   "metadata": {},
   "source": [
    "#### Split"
   ]
  },
  {
   "cell_type": "code",
   "execution_count": 6,
   "metadata": {},
   "outputs": [
    {
     "ename": "NameError",
     "evalue": "name 'split_text' is not defined",
     "output_type": "error",
     "traceback": [
      "\u001b[1;31m---------------------------------------------------------------------------\u001b[0m",
      "\u001b[1;31mNameError\u001b[0m                                 Traceback (most recent call last)",
      "\u001b[1;32m<ipython-input-6-ce01ce9f9e56>\u001b[0m in \u001b[0;36m<module>\u001b[1;34m\u001b[0m\n\u001b[0;32m      1\u001b[0m \u001b[0mwords\u001b[0m \u001b[1;33m=\u001b[0m \u001b[0mremove_non_words\u001b[0m\u001b[1;33m.\u001b[0m\u001b[0msplit\u001b[0m\u001b[1;33m(\u001b[0m\u001b[1;33m)\u001b[0m\u001b[1;33m\u001b[0m\u001b[1;33m\u001b[0m\u001b[0m\n\u001b[0;32m      2\u001b[0m \u001b[1;33m\u001b[0m\u001b[0m\n\u001b[1;32m----> 3\u001b[1;33m \u001b[0msplit_text\u001b[0m\u001b[1;33m\u001b[0m\u001b[1;33m\u001b[0m\u001b[0m\n\u001b[0m",
      "\u001b[1;31mNameError\u001b[0m: name 'split_text' is not defined"
     ]
    }
   ],
   "source": [
    "words = remove_non_words.split()\n",
    "\n",
    "split_text"
   ]
  },
  {
   "cell_type": "markdown",
   "metadata": {},
   "source": [
    "#### Tokenize"
   ]
  },
  {
   "cell_type": "code",
   "execution_count": null,
   "metadata": {},
   "outputs": [
    {
     "name": "stdout",
     "output_type": "stream",
     "text": [
      "['on', 'halloween', 'night', 'in', 'there', 'was', 'a', 'mass', 'murder', 'the', 'police', 'were', 'called', 'and', 'two', 'homicide', 'detectives', 'went', 'to', 'investigate', 'the', 'horrible', 'crime', 'trying', 'not', 'to', 'tread', 'on', 'the', 'bodies', 'the', 'police', 'took', 'pictures', 'of', 'each', 'one', 'one', 'policemen', 'saw', 'something', 'on', 'the', 'opposite', 'wall', 'but', 'he', 'couldnt', 'read', 'it', 'he', 'walks', 'over', 'to', 'it', 'and', 'sees', 'what', 'looked', 'like', 'the', 'numbers', 'written', 'in', 'blood', 'when', 'taking', 'pictures', 'of', 'this', 'he', 'turned', 'his', 'digital', 'camera', 'upsidedown', 'and', 'showed', 'it', 'to', 'his', 'partner', 'when', 'he', 'pointed', 'with', 'the', 'hand', 'that', 'the', 'camera', 'was', 'in', 'he', 'accidentally', 'took', 'a', 'picture', 'of', 'the', 'upsidedown', 'numbers', 'the', 'policeman', 'was', 'about', 'to', 'delete', 'the', 'picture', 'when', 'he', 'realized', 'something', 'the', 'numbers', 'were', 'now', 'a', 'word', 'the', 'word', 'was', 'hell']\n"
     ]
    }
   ],
   "source": [
    "from nltk. tokenize import word_tokenize, sent_tokenize\n",
    "    #text = load_data('t11.txt')\n",
    "    #print(text)\n",
    "w_tokenized = word_tokenize(remove_non_words)\n",
    "    #s_tokenized = sent_tokenize(remove_non_words)\n",
    "\n",
    "    #print(tokenized)\n",
    "    #print(type(tokenized))\n",
    "print(w_tokenized)\n"
   ]
  },
  {
   "cell_type": "markdown",
   "metadata": {},
   "source": [
    "### Remove stopwords"
   ]
  },
  {
   "cell_type": "code",
   "execution_count": null,
   "metadata": {},
   "outputs": [
    {
     "name": "stdout",
     "output_type": "stream",
     "text": [
      "['halloween', 'night', 'mass', 'murder', 'police', 'called', 'two', 'homicide', 'detectives', 'went', 'investigate', 'horrible', 'crime', 'trying', 'tread', 'bodies', 'police', 'took', 'pictures', 'one', 'one', 'policemen', 'saw', 'something', 'opposite', 'wall', 'couldnt', 'read', 'walks', 'sees', 'looked', 'like', 'numbers', 'written', 'blood', 'taking', 'pictures', 'turned', 'digital', 'camera', 'upsidedown', 'showed', 'partner', 'pointed', 'hand', 'camera', 'accidentally', 'took', 'picture', 'upsidedown', 'numbers', 'policeman', 'delete', 'picture', 'realized', 'something', 'numbers', 'word', 'word', 'hell']\n"
     ]
    }
   ],
   "source": [
    "from nltk.corpus import stopwords\n",
    "remove_stopwords = []\n",
    "\n",
    "remove_stopwords = [w for w in words if not w in stopwords.words('english')]\n",
    "\n",
    "# for w in words:\n",
    "#     if w not in stopwords.words('english'):\n",
    "#         remove_stopwords.append(w)\n",
    "print(remove_stopwords)"
   ]
  },
  {
   "cell_type": "markdown",
   "metadata": {},
   "source": [
    "### Stemming / Lemmatization"
   ]
  },
  {
   "cell_type": "markdown",
   "metadata": {},
   "source": [
    "#### Stemming"
   ]
  },
  {
   "cell_type": "code",
   "execution_count": null,
   "metadata": {},
   "outputs": [
    {
     "name": "stdout",
     "output_type": "stream",
     "text": [
      "['halloween', 'night', 'mass', 'murder', 'polic', 'call', 'two', 'homicid', 'detect', 'went', 'investig', 'horribl', 'crime', 'tri', 'tread', 'bodi', 'polic', 'took', 'pictur', 'one', 'one', 'policemen', 'saw', 'someth', 'opposit', 'wall', 'couldnt', 'read', 'walk', 'see', 'look', 'like', 'number', 'written', 'blood', 'take', 'pictur', 'turn', 'digit', 'camera', 'upsidedown', 'show', 'partner', 'point', 'hand', 'camera', 'accident', 'took', 'pictur', 'upsidedown', 'number', 'policeman', 'delet', 'pictur', 'realiz', 'someth', 'number', 'word', 'word', 'hell']\n"
     ]
    }
   ],
   "source": [
    "from nltk.stem import PorterStemmer\n",
    "\n",
    "porter_stemmer = PorterStemmer()\n",
    "\n",
    "words = remove_stopwords \n",
    "stemmed_words = [porter_stemmer.stem(word = word) for word in words]\n",
    "print(stemmed_words)"
   ]
  },
  {
   "cell_type": "markdown",
   "metadata": {},
   "source": [
    "#### Lemmatization"
   ]
  },
  {
   "cell_type": "code",
   "execution_count": null,
   "metadata": {},
   "outputs": [
    {
     "name": "stdout",
     "output_type": "stream",
     "text": [
      "['halloween', 'night', 'mass', 'murder', 'police', 'call', 'two', 'homicide', 'detectives', 'go', 'investigate', 'horrible', 'crime', 'try', 'tread', 'body', 'police', 'take', 'picture', 'one', 'one', 'policemen', 'saw', 'something', 'opposite', 'wall', 'couldnt', 'read', 'walk', 'see', 'look', 'like', 'number', 'write', 'blood', 'take', 'picture', 'turn', 'digital', 'camera', 'upsidedown', 'show', 'partner', 'point', 'hand', 'camera', 'accidentally', 'take', 'picture', 'upsidedown', 'number', 'policeman', 'delete', 'picture', 'realize', 'something', 'number', 'word', 'word', 'hell']\n"
     ]
    },
    {
     "name": "stderr",
     "output_type": "stream",
     "text": [
      "[nltk_data] Downloading package wordnet to\n",
      "[nltk_data]     C:\\Users\\sayo9\\AppData\\Roaming\\nltk_data...\n",
      "[nltk_data]   Package wordnet is already up-to-date!\n"
     ]
    }
   ],
   "source": [
    "import nltk\n",
    "from nltk.stem import WordNetLemmatizer\n",
    "nltk.download('wordnet')\n",
    "lemmatizer = WordNetLemmatizer()\n",
    "\n",
    "words = remove_stopwords\n",
    "lemmatized_words=[lemmatizer.lemmatize(word=word,pos='v') for word in words]\n",
    "print(lemmatized_words)"
   ]
  }
 ],
 "metadata": {
  "interpreter": {
   "hash": "26a79cf3d86517b0adf8f506a3ec328d22af7181eb4afcf79890696141b186bf"
  },
  "kernelspec": {
   "display_name": "Python 3.8.8 64-bit ('base': conda)",
   "language": "python",
   "name": "python3"
  },
  "language_info": {
   "codemirror_mode": {
    "name": "ipython",
    "version": 3
   },
   "file_extension": ".py",
   "mimetype": "text/x-python",
   "name": "python",
   "nbconvert_exporter": "python",
   "pygments_lexer": "ipython3",
   "version": "3.9.6"
  },
  "orig_nbformat": 4
 },
 "nbformat": 4,
 "nbformat_minor": 2
}
